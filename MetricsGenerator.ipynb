{
  "cells": [
    {
      "cell_type": "markdown",
      "metadata": {
        "id": "TE3CaIpTyQd8"
      },
      "source": [
        "Импорт библиотек"
      ]
    },
    {
      "cell_type": "code",
      "execution_count": null,
      "metadata": {
        "id": "f9o8FpGqyBJL"
      },
      "outputs": [],
      "source": [
        "import matplotlib.pyplot as plt\n",
        "from random import randint\n",
        "import csv"
      ]
    },
    {
      "cell_type": "markdown",
      "metadata": {
        "id": "2CjzR5yxycTF"
      },
      "source": [
        "Глобальные переменные"
      ]
    },
    {
      "cell_type": "code",
      "execution_count": null,
      "metadata": {
        "id": "OwaVV4xByf08"
      },
      "outputs": [],
      "source": [
        "# Эти переменные объявлены глобально, потому что они задействуются почти во всех функциях CМО (система массового обслуживания)\n",
        "# То есть так с ними просто удобней работать\n",
        "# Остальные переменные задаются внутри функции\n",
        "# Может это неочевидно и нехорошо так делать, но до лучшего я не додумался\n",
        "\n",
        "l = 0                           # Размер очереди поступивших и необработанных заявок\n",
        "\n",
        "t1, t2  = 25, 25                # Временные метки, необходимые для сбора статистики для построения графика\n",
        "                                # (см. функции ApplicationReceiption и ApplicationProcessing)\n",
        "\n",
        "s = 'free'                      # Статус обработчика\n",
        "\n",
        "system_loading_metric = dict()  # Словарь, в котором будут храниться вычисляемые метрики\n",
        "                                # по временным меткам"
      ]
    },
    {
      "cell_type": "markdown",
      "metadata": {
        "id": "rptONFA3yjhb"
      },
      "source": [
        "Генератор очереди заявок"
      ]
    },
    {
      "cell_type": "code",
      "execution_count": null,
      "metadata": {
        "id": "LufLkYMGyrnp"
      },
      "outputs": [],
      "source": [
        "# Симулирует случайное поступление заявок в реальном времени.\n",
        "# Элемент очереди - это время поступление новой заявки\n",
        "# Возвращает список с заявками\n",
        "\n",
        "def QueueGenerator(a, b, tm):\n",
        "    l = randint(1000, 2000)\n",
        "    t = 0\n",
        "    queue = []\n",
        "    for _ in range(l):\n",
        "        new_app = t + randint(a, b)\n",
        "        if new_app < tm:\n",
        "            queue.append(new_app)\n",
        "            t = new_app\n",
        "    return queue"
      ]
    },
    {
      "cell_type": "markdown",
      "metadata": {
        "id": "a62Hrqkoyv4q"
      },
      "source": [
        "Получение заявки"
      ]
    },
    {
      "cell_type": "code",
      "execution_count": null,
      "metadata": {
        "id": "HKhEflBQyytR"
      },
      "outputs": [],
      "source": [
        "# Принимает заявку\n",
        "# Высчитывает временную метку когда заявка будет обработана с учетом уже имеющихся в очереди и\n",
        "# возвращает эту временную метку\n",
        "\n",
        "def ApplicationReceiption(time, t, c, d):    \n",
        "    global s, l\n",
        "    event = max(time, t) + randint(c, d)\n",
        "    if s == 'free':\n",
        "        s = 'busy'\n",
        "    else:\n",
        "        l += 1\n",
        "    return event"
      ]
    },
    {
      "cell_type": "markdown",
      "metadata": {
        "id": "8eWCe1pey1AN"
      },
      "source": [
        "Обработка заявки"
      ]
    },
    {
      "cell_type": "code",
      "execution_count": null,
      "metadata": {
        "id": "hrIkoy4fy3Fr"
      },
      "outputs": [],
      "source": [
        "# Принимает заявку из очереди необработанных заявок\n",
        "# Регулирует состояние обработчика\n",
        "\n",
        "def ApplicationProcessing(time, tm):    \n",
        "    global l, s\n",
        "    if time > tm:\n",
        "        return\n",
        "    if l > 0:\n",
        "        l -= 1\n",
        "        s = 'busy'\n",
        "    else:\n",
        "        s = 'free'"
      ]
    },
    {
      "cell_type": "markdown",
      "metadata": {
        "id": "HhlvA4Kcy7OV"
      },
      "source": [
        "Основная функция"
      ]
    },
    {
      "cell_type": "code",
      "execution_count": null,
      "metadata": {
        "id": "qPWbyjgxy-R4"
      },
      "outputs": [],
      "source": [
        "# Запускает работу СМО\n",
        "# receiption_queue - очередь всех заявок\n",
        "# processing_queue - очередь необработанных заявок\n",
        "\n",
        "def MassServiceSystem(receiption_queue, processing_queue, a, b, c, d):\n",
        "    global system_loading_metric, t1\n",
        "    t = 0                       # Время завершения обработки последней заявки в очереди поступивших заявок processing_queue\n",
        "    tm = 500                    # Максимальое время работы системы\n",
        "    time = 0                    # Текущий момет времени в системе\n",
        "\n",
        "    processed_apps = 0          # Обработанные заявки\n",
        "    unfinished_apps = 0         # Незавершенные заявки\n",
        "\n",
        "    while time < tm:        # Система работает до момента времени tm\n",
        "\n",
        "        rec = -1            # Эти 2 переменные необходимыы для выбора, из какой очереди брать событие -\n",
        "                            # из очереди поступающих (receiption_queue), или из очереди необработанных (processing_queue)\n",
        "        proc = -1\n",
        "\n",
        "        # В цепочке try-except присваиваем значения для rec и proc\n",
        "        try:                            \n",
        "            rec = receiption_queue[0]\n",
        "        except IndexError:\n",
        "            pass \n",
        "        try:\n",
        "            proc = processing_queue[0]\n",
        "        except IndexError:\n",
        "            pass\n",
        "\n",
        "        # Затем, сравнивая rec и proc, выбираем какое событие обрабатывать\n",
        "        if len(receiption_queue) and len(processing_queue) and rec < proc:\n",
        "            e = receiption_queue.pop(0)\n",
        "            code = 1\n",
        "        else:\n",
        "            try:\n",
        "                e = processing_queue.pop(0)\n",
        "                code = 2\n",
        "            except IndexError:\n",
        "                e = receiption_queue.pop(0)\n",
        "                code = 1\n",
        "        \n",
        "        # Обновляем время системы time\n",
        "        time = e\n",
        "        if code == 1:           # Код 1 - получаем новую заявку из receiption_queue\n",
        "            event = ApplicationReceiption(time, t, c, d)\n",
        "            unfinished_apps += 1\n",
        "            if time > t1:       # Собираем данные для метрики\n",
        "                t1 += 25\n",
        "            system_loading_metric[t1] = round(processed_apps / (processed_apps + unfinished_apps), 2)\n",
        "            t = event\n",
        "            processing_queue.append(event)\n",
        "        elif code == 2:         # Код 2 - обрабатываем заявку из processing_queue\n",
        "            ApplicationProcessing(time, tm)\n",
        "            processed_apps += 1\n",
        "            unfinished_apps -= 1\n",
        "    else:\n",
        "        print('Время работы системы истекло. Завершение работы')\n",
        "        print()\n",
        "        return processed_apps, unfinished_apps  # По завершении работы возвращаем кол-во всех обработанных и необработанных заявок"
      ]
    },
    {
      "cell_type": "markdown",
      "metadata": {
        "id": "O27n7BwRzBdd"
      },
      "source": [
        "Генератор метрик и и графиков"
      ]
    },
    {
      "cell_type": "code",
      "execution_count": null,
      "metadata": {
        "id": "-wjq4CyBzGIj"
      },
      "outputs": [],
      "source": [
        "def GraphicGenerator(a, b, c, d):\n",
        "    global t1, t2, l, s, system_loading_metric\n",
        "\n",
        "    l = 0                       # Здесь обновляются значения глобальных переменных при новом вызове функции\n",
        "    t1  = 25\n",
        "    s = 'free'\n",
        "\n",
        "    tm = 500\n",
        "\n",
        "    system_loading_metric = dict()             \n",
        "\n",
        "    receiption_queue = QueueGenerator(a, b, tm) # Генерация receiption_queue\n",
        "    processing_queue = []                       # processing_queue изначально пустой\n",
        "\n",
        "    print(receiption_queue)\n",
        "\n",
        "    result = MassServiceSystem(receiption_queue, processing_queue, a, b, c, d) # Запускаем СМО\n",
        "\n",
        "    print('Метрики по временным меткам')\n",
        "    print(system_loading_metric)\n",
        "    print()\n",
        "\n",
        "    print(f'Всего поступивших заявок: {result[0] + result[1]}')\n",
        "    print(f'Обработанные: {result[0]}')\n",
        "    print(f'Необработанные: {result[1]}')\n",
        "    print()\n",
        "\n",
        "    # Составляем точки для графика из составленных словарей\n",
        "    # По оси Х берем ключи из словарей (временные метки)\n",
        "    x_vals = [int(i) for i in system_loading_metric.keys()]\n",
        "    # По Y - отношение обработанных заявок к общему числу поступивших заявок для соответствующих временных меток           \n",
        "    y_vals = [i for i in system_loading_metric.values()]              \n",
        "\n",
        "    print('Значения X')\n",
        "    print(x_vals)\n",
        "    print('Значения Y')\n",
        "    print(y_vals)\n",
        "    print()\n",
        "\n",
        "    # Строим график\n",
        "\n",
        "    plt.figure(figsize=(10, 7))\n",
        "    plt.axes(ylim=(0, max(y_vals) + 1))\n",
        "    plt.plot(x_vals, y_vals, 'o-r')\n",
        "    plt.title('Метрика')\n",
        "    plt.ylabel('Вероятность обслуживания требования')\n",
        "    plt.xlabel('Временные метки')\n",
        "    plt.show()\n",
        "\n",
        "    # Визуально определяем начало стабильного промежутка - когда график перестает сильно колебаться\n",
        "    begin = int(input('Введите начало стабильного промежутка: ')) // 25\n",
        "    print()\n",
        "\n",
        "    # Вычисляем среднее из значений по Y, попавших в стабильный промежуток\n",
        "    mean_metric = sum([y_vals[i] for i in range(begin - 1, 20)]) / (20 - begin + 1)\n",
        "\n",
        "    # Возвращаем набор из a, b, c, d и вычисленного среднего\n",
        "    return [a, b, c, d, round(mean_metric, 2)]"
      ]
    },
    {
      "cell_type": "markdown",
      "metadata": {
        "id": "xrAQKEtPzJfF"
      },
      "source": [
        "Генератор набора метрик"
      ]
    },
    {
      "cell_type": "code",
      "execution_count": null,
      "metadata": {
        "id": "KT_Y_8PvzUK8"
      },
      "outputs": [],
      "source": [
        "def MetricsGenerator():\n",
        "    # Переменная, где будут храниться итоговые усредненные метрики\n",
        "    metrics = []\n",
        "\n",
        "    # Подбирает переменные\n",
        "    # Учтите, что значения c и d должны быть больше или примерно равны соответственно a и b\n",
        "    # Иначе график может отображаться некорректно\n",
        "    for _ in range(5):\n",
        "        print()\n",
        "        print()\n",
        "        print()\n",
        "        print('==========')\n",
        "        print()\n",
        "\n",
        "        a = int(input('Введите значение a: '))\n",
        "        b = int(input('Введите значение b: '))\n",
        "        c = int(input('Введите значение c: '))\n",
        "        d = int(input('Введите значение d: '))\n",
        "        print()\n",
        "\n",
        "        # Для каждого набора переменных 5 раз находит метрику и записывает в inter_metrics\n",
        "        inter_metrics = []\n",
        "        for i in range(5):\n",
        "            inter_metrics.append(GraphicGenerator(a, b, c, d)[4])\n",
        "\n",
        "        # Высчитывает финальную метрику как среднее из вычесленных\n",
        "        final_metric = round(sum(inter_metrics) / 5, 2)\n",
        "\n",
        "        # Записывает финальный набор из переменных и усредненной метрики\n",
        "        metrics.append([a, b, c, d, final_metric])\n",
        "    with open(\"metrics.csv\", \"w\", newline=\"\") as file:\n",
        "        writer = csv.writer(file)\n",
        "        writer.writerows(metrics)\n",
        "    # print(metrics)"
      ]
    }
  ],
  "metadata": {
    "colab": {
      "provenance": []
    },
    "kernelspec": {
      "display_name": "Python 3",
      "name": "python3"
    },
    "language_info": {
      "name": "python"
    }
  },
  "nbformat": 4,
  "nbformat_minor": 0
}
