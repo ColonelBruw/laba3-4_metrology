{
  "nbformat": 4,
  "nbformat_minor": 0,
  "metadata": {
    "colab": {
      "provenance": []
    },
    "kernelspec": {
      "name": "python3",
      "display_name": "Python 3"
    },
    "language_info": {
      "name": "python"
    }
  },
  "cells": [
    {
      "cell_type": "markdown",
      "source": [
        "Импорт библиотек"
      ],
      "metadata": {
        "id": "TE3CaIpTyQd8"
      }
    },
    {
      "cell_type": "code",
      "execution_count": null,
      "metadata": {
        "id": "f9o8FpGqyBJL"
      },
      "outputs": [],
      "source": [
        "import matplotlib.pyplot as plt\n",
        "from random import randint\n",
        "import csv"
      ]
    },
    {
      "cell_type": "markdown",
      "source": [
        "Глобальные переменные"
      ],
      "metadata": {
        "id": "2CjzR5yxycTF"
      }
    },
    {
      "cell_type": "code",
      "source": [
        "# Эти переменные объявлены глобально, потому что они задействуются почти во всех функциях CМО (система массового обслуживания)\n",
        "# То есть так с ними просто удобней работать\n",
        "# Остальные переменные задаются внутри функции\n",
        "# Может это неочевидно и нехорошо так делать, но до лучшего я не додумался\n",
        "\n",
        "l = 0                           # Размер очереди поступивших и необработанных заявок\n",
        "\n",
        "t1, t2  = 25, 25                # Временные метки, необходимые для сбора статистики для построения графика\n",
        "                                # (см. функции ApplicationReceiption и ApplicationProcessing)\n",
        "\n",
        "s = 'free'                      # Статус обработчика\n",
        "\n",
        "processed_apps_query = dict()   # Содержит временную метку в качестве ключа и кол-во обработанных заявок,\n",
        "                                # обработанных в течении этой метки, в качестве значения\n",
        "\n",
        "unprocessed_apps_query = dict() # Содержит временную метку в качестве ключа и кол-во  заявок,\n",
        "                                # попавших в очередь в течение этой метки, в качестве значения\n",
        "                                # Нужны для построения графика"
      ],
      "metadata": {
        "id": "OwaVV4xByf08"
      },
      "execution_count": null,
      "outputs": []
    },
    {
      "cell_type": "markdown",
      "source": [
        "Генератор очереди заявок"
      ],
      "metadata": {
        "id": "rptONFA3yjhb"
      }
    },
    {
      "cell_type": "code",
      "source": [
        "# Симулирует случайное поступление заявок в реальном времени.\n",
        "# Элемент очереди - это время поступление новой заявки\n",
        "# Возвращает список с заявками\n",
        "\n",
        "def QueueGenerator(a, b, tm):\n",
        "    l = randint(1000, 2000)\n",
        "    t = 0\n",
        "    queue = []\n",
        "    for _ in range(l):\n",
        "        new_app = t + randint(a, b)\n",
        "        if new_app < tm:\n",
        "            queue.append(new_app)\n",
        "            t = new_app\n",
        "    return queue"
      ],
      "metadata": {
        "id": "LufLkYMGyrnp"
      },
      "execution_count": null,
      "outputs": []
    },
    {
      "cell_type": "markdown",
      "source": [
        "Получение заявки"
      ],
      "metadata": {
        "id": "a62Hrqkoyv4q"
      }
    },
    {
      "cell_type": "code",
      "source": [
        "# Принимает заявку\n",
        "# Высчитывает временную метку когда заявка будет обработана с учетом уже имеющихся в очереди и\n",
        "# возвращает эту временную метку\n",
        "\n",
        "def ApplicationReceiption(time, t, c, d):\n",
        "    global unprocessed_apps_query, s, l, t2\n",
        "    event = max(time, t) + randint(c, d)\n",
        "    if s == 'free':\n",
        "        s = 'busy'\n",
        "    else:\n",
        "        l += 1\n",
        "        while time > t2:\n",
        "            t2 += 25\n",
        "        try:\n",
        "            unprocessed_apps_query[t2] += 1 # Собираем данные для графика\n",
        "        except KeyError:\n",
        "            unprocessed_apps_query[t2] = 1\n",
        "    return event"
      ],
      "metadata": {
        "id": "HKhEflBQyytR"
      },
      "execution_count": null,
      "outputs": []
    },
    {
      "cell_type": "markdown",
      "source": [
        "Обработка заявки"
      ],
      "metadata": {
        "id": "8eWCe1pey1AN"
      }
    },
    {
      "cell_type": "code",
      "source": [
        "# Принимает заявку из очереди необработанных заявок\n",
        "# Регулирует состояние обработчика\n",
        "\n",
        "def ApplicationProcessing(time, tm):\n",
        "    global t1, l, s, processed_apps_query, unprocessed_apps_query\n",
        "    if time > tm:\n",
        "        return\n",
        "    if l > 0:\n",
        "        l -= 1\n",
        "        s = 'busy'\n",
        "    else:\n",
        "        s = 'free'\n",
        "    while time > t1:\n",
        "        t1 += 25\n",
        "    try:\n",
        "        processed_apps_query[t1] += 1   # Собираем данные для графика\n",
        "    except KeyError:\n",
        "        processed_apps_query[t1] = 1"
      ],
      "metadata": {
        "id": "hrIkoy4fy3Fr"
      },
      "execution_count": null,
      "outputs": []
    },
    {
      "cell_type": "markdown",
      "source": [
        "Основная функция"
      ],
      "metadata": {
        "id": "HhlvA4Kcy7OV"
      }
    },
    {
      "cell_type": "code",
      "source": [
        "# Запускает работу СМО\n",
        "# receiption_queue - очередь всех заявок\n",
        "# processing_queue - очередь необработанных заявок\n",
        "\n",
        "def MassServiceSystem(receiption_queue, processing_queue, a, b, c, d):\n",
        "\n",
        "    t = 0                       # Время завершения обработки последней заявки в очереди поступивших заявок processing_queue\n",
        "    tm = 500                    # Максимальое время работы системы\n",
        "    time = 0                    # Текущий момет времени в системе\n",
        "\n",
        "    processed_apps = 0          # Обработанные заявки\n",
        "    unfinished_apps = 0         # Незавершенные заявки\n",
        "\n",
        "    receiption_queue_is_not_empty = True # Метка, непуста ли очередь поступающих заявок\n",
        "\n",
        "    while time < tm:        # Система работает до момента времени tm\n",
        "\n",
        "        rec = -1            # Эти 2 переменные необходимыы для выбора, из какой очереди брать событие -\n",
        "                            # из очереди поступающих (receiption_queue), или из очереди необработанных (processing_queue)\n",
        "        proc = -1\n",
        "        try:\n",
        "            rec = receiption_queue[0]\n",
        "        except IndexError:\n",
        "            receiption_queue_is_not_empty = False\n",
        "        try:\n",
        "            proc = processing_queue[0]\n",
        "        except IndexError:\n",
        "            pass\n",
        "        if receiption_queue_is_not_empty and len(processing_queue) and rec >= proc:\n",
        "            e = processing_queue.pop(0)\n",
        "            code = 2\n",
        "        else:\n",
        "            try:\n",
        "                e = receiption_queue.pop(0)\n",
        "                code = 1\n",
        "            except IndexError:\n",
        "                e = processing_queue.pop(0)\n",
        "                code = 2\n",
        "        time = e\n",
        "        if code == 1:           # Код 1 - получаем новую заявку из receiption_queue\n",
        "            event = ApplicationReceiption(time, t, c, d)\n",
        "            t = event\n",
        "            processing_queue.append(event)\n",
        "            unfinished_apps += 1\n",
        "        elif code == 2:         # Код 2 - обрабатываем заявку из processing_queue\n",
        "            ApplicationProcessing(time, tm)\n",
        "            processed_apps += 1\n",
        "            unfinished_apps -= 1\n",
        "    else:\n",
        "        print('Время работы системы истекло. Завершение работы')\n",
        "        print()\n",
        "        return processed_apps, unfinished_apps  # По завершении работы возвращаем кол-во всех обработанных и необработанных заявок"
      ],
      "metadata": {
        "id": "qPWbyjgxy-R4"
      },
      "execution_count": null,
      "outputs": []
    },
    {
      "cell_type": "markdown",
      "source": [
        "Генератор метрик и и графиков"
      ],
      "metadata": {
        "id": "O27n7BwRzBdd"
      }
    },
    {
      "cell_type": "code",
      "source": [
        "def GraphicGenerator(a, b, c, d):\n",
        "    global t1, t2, l, s, processed_apps_query, unprocessed_apps_query\n",
        "\n",
        "    l = 0                       # Здесь обновляются значения глобальных переменных при новом вызове функции\n",
        "    t1, t2  = 25, 25\n",
        "    s = 'free'\n",
        "\n",
        "    tm = 500\n",
        "\n",
        "    processed_apps_query = dict()\n",
        "    unprocessed_apps_query = dict()\n",
        "\n",
        "    receiption_queue = QueueGenerator(a, b, tm) # Генерация receiption_queue\n",
        "    processing_queue = []                       # processing_queue изначально пустой\n",
        "\n",
        "    print(receiption_queue)\n",
        "\n",
        "    result = MassServiceSystem(receiption_queue, processing_queue, a, b, c, d) # Запускаем СМО\n",
        "\n",
        "    # Здесь делаем пост-обработку словарей для графиков\n",
        "    # Заполняем нолями пропущенные временные метки\n",
        "\n",
        "    if len(processed_apps_query) < 20:\n",
        "        for i in range(1, 21):\n",
        "            try:\n",
        "                processed_apps_query[25 * i]\n",
        "            except KeyError:\n",
        "                processed_apps_query[25 * i] = 0\n",
        "\n",
        "    if len(unprocessed_apps_query) < 20:\n",
        "        for i in range(1, 21):\n",
        "            try:\n",
        "                unprocessed_apps_query[25 * i]\n",
        "            except KeyError:\n",
        "                unprocessed_apps_query[25 * i] = 0\n",
        "\n",
        "    # Например, в processed_apps_query значение '50: 3' значит,\n",
        "    # что в промежуток времени 25-50 было обработано 3 заявки\n",
        "    print('Обработанные заявки по временным меткам')\n",
        "    print(processed_apps_query)\n",
        "    print()\n",
        "\n",
        "    # в unprocessed_apps_query значение '50: 3' значит,\n",
        "    # что в промежуток времени 25-50 было отправлено в очередь 3 заявки\n",
        "    print('Заявки, находящиеся в очереди по временным меткам')\n",
        "    print(unprocessed_apps_query)\n",
        "    print()\n",
        "\n",
        "    print(f'Всего поступивших заявок: {result[0] + result[1]}')\n",
        "    print(f'Обработанные: {result[0]}')\n",
        "    print(f'Необработанные: {result[1]}')\n",
        "    print()\n",
        "\n",
        "    # Составляем точки для графика из составленных словарей\n",
        "    x_vals = [25 * i for i in range(1, 21)] # По оси Х берем ключи из словарей (временные метки)\n",
        "    y_vals = []                             # По Y - отношение обработанных и необработанных заявок для соответствующих временных меток\n",
        "    for i in range(1, 21):\n",
        "        if processed_apps_query[25 * i] == 0 or (processed_apps_query[25 * i] == 0 and unprocessed_apps_query[25 * i] == 0): # Проводим обработку нулевых значений\n",
        "            val = 0\n",
        "        elif unprocessed_apps_query[25 * i] == 0:\n",
        "            val = 3\n",
        "        else:\n",
        "            val = round(processed_apps_query[25 * i] / unprocessed_apps_query[25 * i], 2)\n",
        "        y_vals.append(val)\n",
        "\n",
        "    # Строим график\n",
        "\n",
        "    plt.figure(figsize=(10, 7))\n",
        "    plt.axes(ylim=(0, max(y_vals) + 2))\n",
        "    plt.plot(x_vals, y_vals, 'o-r')\n",
        "    plt.ylabel('Отношение обработанных заявок к необработанным')\n",
        "    plt.xlabel('Временные метки')\n",
        "    plt.show()\n",
        "\n",
        "    # Визуально определяем начало стабильного промежутка - когда график перестает сильно колебаться\n",
        "    begin = int(input('Введите начало стабильного промежутка: ')) // 25\n",
        "    print()\n",
        "\n",
        "    # Вычисляем среднее из значений по Y, попавших в стабильный промежуток\n",
        "    mean_metric = sum([y_vals[i] for i in range(begin - 1, 20)]) / (20 - begin + 1)\n",
        "\n",
        "    # Возвращаем набор из a, b, c, d и вычисленного среднего\n",
        "    return [a, b, c, d, round(mean_metric, 2)]"
      ],
      "metadata": {
        "id": "-wjq4CyBzGIj"
      },
      "execution_count": null,
      "outputs": []
    },
    {
      "cell_type": "markdown",
      "source": [
        "Генератор набора метрик"
      ],
      "metadata": {
        "id": "xrAQKEtPzJfF"
      }
    },
    {
      "cell_type": "code",
      "source": [
        "def MetricsGenerator():\n",
        "    # Переменная, где будут храниться итоговые усредненные метрики\n",
        "    metrics = []\n",
        "\n",
        "    # Подбирает переменные\n",
        "    # Учтите, что значения c и d должны быть больше или примерно равны соответственно a и b\n",
        "    # Иначе график может отображаться некорректно\n",
        "    for _ in range(5):\n",
        "        print()\n",
        "        print()\n",
        "        print()\n",
        "        print('==========')\n",
        "        print()\n",
        "\n",
        "        a = int(input('Введите значение a: '))\n",
        "        b = int(input('Введите значение b: '))\n",
        "        c = int(input('Введите значение c: '))\n",
        "        d = int(input('Введите значение d: '))\n",
        "        print()\n",
        "\n",
        "        # Для каждого набора переменных 5 раз находит метрику и записывает в inter_metrics\n",
        "        inter_metrics = []\n",
        "        for i in range(5):\n",
        "            inter_metrics.append(GraphicGenerator(a, b, c, d)[4])\n",
        "\n",
        "        # Высчитывает финальную метрику как среднее из вычесленных\n",
        "        final_metric = round(sum(inter_metrics) / 5, 2)\n",
        "\n",
        "        # Записывает финальный набор из переменных и усредненной метрики\n",
        "        metrics.append([a, b, c, d, final_metric])\n",
        "    with open(\"metrics.csv\", \"w\", newline=\"\") as file:\n",
        "        writer = csv.writer(file)\n",
        "        writer.writerows(metrics)\n",
        "    # print(metrics)"
      ],
      "metadata": {
        "id": "KT_Y_8PvzUK8"
      },
      "execution_count": null,
      "outputs": []
    }
  ]
}